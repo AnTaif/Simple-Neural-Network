{
 "cells": [
  {
   "cell_type": "code",
   "execution_count": 5,
   "id": "5fd96819",
   "metadata": {},
   "outputs": [],
   "source": [
    "import csv\n",
    "import imageio\n",
    "import numpy\n",
    "import matplotlib.pyplot\n",
    "%matplotlib inline\n",
    "import scipy.special"
   ]
  },
  {
   "cell_type": "code",
   "execution_count": 3,
   "id": "e20f5d55",
   "metadata": {},
   "outputs": [],
   "source": [
    "class neuralNetwork:\n",
    "    def __init__(self, inputnodes, hiddennodes, outputnodes, learningrate, wih, who, typen=False):  # Инициализация сети\n",
    "        # Количество узлов в слоях\n",
    "        self.innodes = inputnodes\n",
    "        self.hidnodes = hiddennodes\n",
    "        self.outnodes = outputnodes\n",
    "\n",
    "        self.learn = learningrate # Коэффицент обучения\n",
    "        \n",
    "        # Генерация весовых коэффицентов\n",
    "        if typen == False:\n",
    "            self.wih = numpy.random.normal(0.0, pow(self.hidnodes, -0.5), (self.hidnodes, self.innodes)) \n",
    "            self.who = numpy.random.normal(0.0, pow(self.outnodes, -0.5), (self.outnodes, self.hidnodes))\n",
    "        else:\n",
    "            self.wih = wih\n",
    "            self.who = who\n",
    "\n",
    "        self.activation_function = lambda x: scipy.special.expit(x)\n",
    "\n",
    "    def train(self, inputs_list, targets_list): # Тренировка сети\n",
    "        targets = numpy.array(targets_list, ndmin=2).T\n",
    "        \n",
    "        inputs = numpy.array(inputs_list, ndmin=2).T       \n",
    "        hidden_inputs = numpy.dot(self.wih, inputs)\n",
    "        hidden_outputs = self.activation_function(hidden_inputs)\n",
    "\n",
    "        final_inputs = numpy.dot(self.who, hidden_outputs)\n",
    "        final_outputs = self.activation_function(final_inputs)\n",
    "\n",
    "        output_errors = targets - final_outputs\n",
    "        hidden_errors = numpy.dot(self.who.T, output_errors)\n",
    "\n",
    "        self.who += self.learn * numpy.dot((output_errors * final_outputs * (1 - final_outputs)), numpy.transpose(hidden_outputs))\n",
    "        self.wih += self.learn * numpy.dot((hidden_errors * hidden_outputs * (1 - hidden_outputs)), numpy.transpose(inputs))\n",
    "\n",
    "\n",
    "    def query(self, inputs_list): # Опрос сети\n",
    "        inputs = numpy.array(inputs_list, ndmin=2).T\n",
    "        \n",
    "        hidden_inputs = numpy.dot(self.wih, inputs)\n",
    "        hidden_outputs = self.activation_function(hidden_inputs)\n",
    "\n",
    "        final_inputs = numpy.dot(self.who, hidden_outputs)\n",
    "        final_outputs = self.activation_function(final_inputs) \n",
    "\n",
    "        return final_outputs\n",
    "    \n",
    "    def get_w(self, n):\n",
    "        if n == 'wih':\n",
    "            return self.wih\n",
    "        elif n == 'who':\n",
    "            return self.who"
   ]
  },
  {
   "cell_type": "code",
   "execution_count": 1,
   "id": "19961efb",
   "metadata": {},
   "outputs": [],
   "source": [
    "# Первая нейросеть для определения весов\n",
    "inputnodes = 784\n",
    "hiddennodes = 500\n",
    "outputnodes = 10\n",
    "learningrate = 0.2\n",
    "wih_f = 0"
   ]
  },
  {
   "cell_type": "code",
   "execution_count": 6,
   "id": "7c000286",
   "metadata": {},
   "outputs": [],
   "source": [
    "NeuraFirst = neuralNetwork(inputnodes, hiddennodes, outputnodes, learningrate, wih_f, wih_f, typen=False)"
   ]
  },
  {
   "cell_type": "code",
   "execution_count": 8,
   "id": "d57b6b0e",
   "metadata": {
    "scrolled": false
   },
   "outputs": [
    {
     "name": "stdout",
     "output_type": "stream",
     "text": [
      "Эпоха 0 завершена\n",
      "Эпоха 1 завершена\n",
      "Эпоха 2 завершена\n",
      "Эпоха 3 завершена\n",
      "Эпоха 4 завершена\n",
      "Обучение завершено\n"
     ]
    }
   ],
   "source": [
    "with open('mnist_train.csv', 'r') as file_train:\n",
    "    train_data_list = file_train.readlines()\n",
    "\n",
    "epochs = 5\n",
    "for e in range(epochs):\n",
    "    for record in train_data_list:\n",
    "        all_values = record.split(',')\n",
    "        image_array = numpy.asfarray(all_values[1:]) \n",
    "        inputs = (image_array / 255.0 * 0.99) + 0.01\n",
    "        targets = numpy.zeros(outputnodes) + 0.01\n",
    "        targets[int(all_values[0])] = 0.99\n",
    "        NeuraFirst.train(inputs, targets)\n",
    "    print('Эпоха', e, 'завершена')\n",
    "print('Обучение завершено')"
   ]
  },
  {
   "cell_type": "code",
   "execution_count": 8,
   "id": "fe822efc",
   "metadata": {
    "scrolled": true
   },
   "outputs": [
    {
     "name": "stdout",
     "output_type": "stream",
     "text": [
      "эффективность =  0.9722\n"
     ]
    }
   ],
   "source": [
    "# Проверка эффективности сети\n",
    "with open('mnist_test.csv', 'r') as file_test:\n",
    "    test_data_list = file_test.readlines()\n",
    "all_test_values = test_data_list[0].split(',')\n",
    "image_test_array = numpy.asfarray(all_test_values[1:])\n",
    "\n",
    "scorecard = []\n",
    "for test_record in test_data_list:\n",
    "    all_values = test_record.split(',')\n",
    "    correct_label = int(all_values[0]) \n",
    "\n",
    "    inputs = (numpy.asfarray(all_values[1:]) / 255.0 * 0.99) + 0.01\n",
    "    outputs = NeuraFirst.query(inputs)\n",
    "    label = numpy.argmax(outputs)\n",
    "    \n",
    "    if (label == correct_label):\n",
    "        scorecard.append(1)\n",
    "    else:\n",
    "        scorecard.append(0)\n",
    "#print(scorecard)\n",
    "scorecard_array = numpy.asarray(scorecard)\n",
    "print (\"эффективность = \", scorecard_array.sum() / scorecard_array.size)"
   ]
  },
  {
   "cell_type": "code",
   "execution_count": 11,
   "id": "c8d2db89",
   "metadata": {},
   "outputs": [],
   "source": [
    "# Сохранить тренировку сети\n",
    "wih = NeuraFirst.get_w('wih')\n",
    "who = NeuraFirst.get_w('who')\n",
    "numpy.save('wih.npy', wih)\n",
    "numpy.save('who.npy', who)"
   ]
  },
  {
   "cell_type": "code",
   "execution_count": 7,
   "id": "650d5d11",
   "metadata": {},
   "outputs": [],
   "source": [
    "# Основная нейросеть\n",
    "wih = numpy.load('wih.npy')\n",
    "who = numpy.load('who.npy')\n",
    "Neura = neuralNetwork(inputnodes, hiddennodes, outputnodes, learningrate, wih, who, typen=True)"
   ]
  },
  {
   "cell_type": "code",
   "execution_count": 100,
   "id": "8d1b6862",
   "metadata": {
    "scrolled": false
   },
   "outputs": [
    {
     "name": "stdout",
     "output_type": "stream",
     "text": [
      "6    70.98%\n"
     ]
    },
    {
     "data": {
      "text/plain": [
       "<matplotlib.image.AxesImage at 0x15ae3658>"
      ]
     },
     "execution_count": 100,
     "metadata": {},
     "output_type": "execute_result"
    },
    {
     "data": {
      "image/png": "[encoded data removed]",
      "text/plain": [
       "<Figure size 432x288 with 1 Axes>"
      ]
     },
     "metadata": {
      "needs_background": "light"
     },
     "output_type": "display_data"
    }
   ],
   "source": [
    "# Определение числа\n",
    "img = (imageio.imread('img.jpg', as_gray=True))\n",
    "img = numpy.array(img)\n",
    "inputs = ((img / 255.0 * 0.99) + 0.01)\n",
    "inpu = []\n",
    "for i in inputs:\n",
    "    for j in i:\n",
    "        inpu.append(j)\n",
    "inputs = numpy.asfarray(inpu)\n",
    "outputs = Neura.query(inputs)\n",
    "percent_dict = {}\n",
    "n = 0\n",
    "for i in outputs:\n",
    "    percent = (\"%.2f\") % (i[0] / outputs.sum() * 100)\n",
    "    #print(percent)\n",
    "    if float(percent) >= 30:\n",
    "        percent_dict[n] = percent\n",
    "    n += 1       \n",
    "dict(sorted(percent_dict.items(), key=lambda item: item[1]))\n",
    "for key in percent_dict.keys():\n",
    "    print(key, '  ', percent_dict[key] + '%')\n",
    "\n",
    "matplotlib.pyplot.imshow(img, cmap='Greys', interpolation=None)"
   ]
  },
  {
   "cell_type": "code",
   "execution_count": 90,
   "id": "3333ffc0",
   "metadata": {},
   "outputs": [
    {
     "name": "stdout",
     "output_type": "stream",
     "text": [
      "Введите истинное значение >>> 6\n",
      "Число добавленно в тренировочный набор\n"
     ]
    }
   ],
   "source": [
    "# Добавить тренировочные данные\n",
    "# ПЕРЕД ЗАПУСКОМ ОБНОВИТЬ ПЕРЕМЕННУЮ right_value\n",
    "right_value = input('Введите истинное значение >>> ')\n",
    "\n",
    "with open(\"mnist_train.csv\", mode=\"a\", newline='') as w_file:\n",
    "    file_writer = csv.writer(w_file, delimiter = \",\")\n",
    "    inpu = [right_value]\n",
    "    for i in img:\n",
    "        for j in i:\n",
    "            inpu.append(int(j))    \n",
    "    file_writer.writerow(inpu) \n",
    "print('Число добавленно в тренировочный набор')\n",
    "   "
   ]
  }
 ],
 "metadata": {
  "kernelspec": {
   "display_name": "Python 3",
   "language": "python",
   "name": "python3"
  },
  "language_info": {
   "codemirror_mode": {
    "name": "ipython",
    "version": 3
   },
   "file_extension": ".py",
   "mimetype": "text/x-python",
   "name": "python",
   "nbconvert_exporter": "python",
   "pygments_lexer": "ipython3",
   "version": "3.8.5"
  }
 },
 "nbformat": 4,
 "nbformat_minor": 5
}
